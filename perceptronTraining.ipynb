{
 "cells": [
  {
   "cell_type": "code",
   "execution_count": null,
   "outputs": [],
   "source": [
    "import numpy as np\n",
    "import sklearn\n",
    "import sys\n",
    "import scipy\n",
    "import matplotlib\n",
    "import winerror\n",
    "\n",
    "from pandas import read_csv\n",
    "from pandas.plotting import scatter_matrix\n",
    "from matplotlib import pyplot\n",
    "from sklearn.model_selection import train_test_split\n",
    "from sklearn.model_selection import cross_val_score\n",
    "from sklearn.model_selection import StratifiedKFold\n",
    "from sklearn.metrics import classification_report\n",
    "from sklearn.metrics import confusion_matrix\n",
    "from sklearn.metrics import accuracy_score\n",
    "from sklearn.linear_model import LogisticRegression\n",
    "from sklearn.tree import DecisionTreeClassifier\n",
    "from sklearn.neighbors import KNeighborsClassifier\n",
    "from sklearn.discriminant_analysis import LinearDiscriminantAnalysis\n",
    "from sklearn.naive_bayes import GaussianNB\n",
    "from sklearn.svm import SVC"
   ],
   "metadata": {
    "collapsed": false,
    "pycharm": {
     "name": "#%%\n"
    }
   }
  },
  {
   "cell_type": "code",
   "execution_count": 8,
   "outputs": [
    {
     "name": "stdout",
     "output_type": "stream",
     "text": [
      "    class  alcohol  malic acid   ash  alcalinity of ash  magnesium  \\\n",
      "0       1    14.23        1.71  2.43               15.6        127   \n",
      "1       1    13.20        1.78  2.14               11.2        100   \n",
      "2       1    13.16        2.36  2.67               18.6        101   \n",
      "3       1    14.37        1.95  2.50               16.8        113   \n",
      "4       1    13.24        2.59  2.87               21.0        118   \n",
      "5       1    14.20        1.76  2.45               15.2        112   \n",
      "6       1    14.39        1.87  2.45               14.6         96   \n",
      "7       1    14.06        2.15  2.61               17.6        121   \n",
      "8       1    14.83        1.64  2.17               14.0         97   \n",
      "9       1    13.86        1.35  2.27               16.0         98   \n",
      "10      1    14.10        2.16  2.30               18.0        105   \n",
      "11      1    14.12        1.48  2.32               16.8         95   \n",
      "12      1    13.75        1.73  2.41               16.0         89   \n",
      "13      1    14.75        1.73  2.39               11.4         91   \n",
      "14      1    14.38        1.87  2.38               12.0        102   \n",
      "15      1    13.63        1.81  2.70               17.2        112   \n",
      "16      1    14.30        1.92  2.72               20.0        120   \n",
      "17      1    13.83        1.57  2.62               20.0        115   \n",
      "18      1    14.19        1.59  2.48               16.5        108   \n",
      "19      1    13.64        3.10  2.56               15.2        116   \n",
      "\n",
      "    total phenlos  flavanoids  nonflavanoid phenols  proanthocyanins  \\\n",
      "0            2.80        3.06                  0.28             2.29   \n",
      "1            2.65        2.76                  0.26             1.28   \n",
      "2            2.80        3.24                  0.30             2.81   \n",
      "3            3.85        3.49                  0.24             2.18   \n",
      "4            2.80        2.69                  0.39             1.82   \n",
      "5            3.27        3.39                  0.34             1.97   \n",
      "6            2.50        2.52                  0.30             1.98   \n",
      "7            2.60        2.51                  0.31             1.25   \n",
      "8            2.80        2.98                  0.29             1.98   \n",
      "9            2.98        3.15                  0.22             1.85   \n",
      "10           2.95        3.32                  0.22             2.38   \n",
      "11           2.20        2.43                  0.26             1.57   \n",
      "12           2.60        2.76                  0.29             1.81   \n",
      "13           3.10        3.69                  0.43             2.81   \n",
      "14           3.30        3.64                  0.29             2.96   \n",
      "15           2.85        2.91                  0.30             1.46   \n",
      "16           2.80        3.14                  0.33             1.97   \n",
      "17           2.95        3.40                  0.40             1.72   \n",
      "18           3.30        3.93                  0.32             1.86   \n",
      "19           2.70        3.03                  0.17             1.66   \n",
      "\n",
      "    color density   hue  OD280/OD315 of diluted wines  proline  \n",
      "0            5.64  1.04                          3.92     1065  \n",
      "1            4.38  1.05                          3.40     1050  \n",
      "2            5.68  1.03                          3.17     1185  \n",
      "3            7.80  0.86                          3.45     1480  \n",
      "4            4.32  1.04                          2.93      735  \n",
      "5            6.75  1.05                          2.85     1450  \n",
      "6            5.25  1.02                          3.58     1290  \n",
      "7            5.05  1.06                          3.58     1295  \n",
      "8            5.20  1.08                          2.85     1045  \n",
      "9            7.22  1.01                          3.55     1045  \n",
      "10           5.75  1.25                          3.17     1510  \n",
      "11           5.00  1.17                          2.82     1280  \n",
      "12           5.60  1.15                          2.90     1320  \n",
      "13           5.40  1.25                          2.73     1150  \n",
      "14           7.50  1.20                          3.00     1547  \n",
      "15           7.30  1.28                          2.88     1310  \n",
      "16           6.20  1.07                          2.65     1280  \n",
      "17           6.60  1.13                          2.57     1130  \n",
      "18           8.70  1.23                          2.82     1680  \n",
      "19           5.10  0.96                          3.36      845  \n"
     ]
    }
   ],
   "source": [
    "url = \"http://archive.ics.uci.edu/ml/machine-learning-databases/wine/wine.data\"\n",
    "names =['class', 'alcohol', 'malic acid', 'ash', 'alcalinity of ash', 'magnesium',\n",
    "        'total phenlos', 'flavanoids', 'nonflavanoid phenols', 'proanthocyanins',\n",
    "        'color density', 'hue', 'OD280/OD315 of diluted wines', 'proline']\n",
    "dataset = read_csv(url, names=names)\n",
    "print(dataset.head(20))\n"
   ],
   "metadata": {
    "collapsed": false,
    "pycharm": {
     "name": "#%%\n"
    }
   }
  }
 ],
 "metadata": {
  "kernelspec": {
   "display_name": "Python 3",
   "language": "python",
   "name": "python3"
  },
  "language_info": {
   "codemirror_mode": {
    "name": "ipython",
    "version": 2
   },
   "file_extension": ".py",
   "mimetype": "text/x-python",
   "name": "python",
   "nbconvert_exporter": "python",
   "pygments_lexer": "ipython2",
   "version": "2.7.6"
  }
 },
 "nbformat": 4,
 "nbformat_minor": 0
}